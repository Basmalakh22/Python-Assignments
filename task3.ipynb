{
 "cells": [
  {
   "cell_type": "markdown",
   "id": "6137515e",
   "metadata": {},
   "source": [
    "# Tuple of 5 fruits, search, add new fruit"
   ]
  },
  {
   "cell_type": "code",
   "execution_count": 3,
   "id": "fc87ccf9",
   "metadata": {},
   "outputs": [],
   "source": [
    "# Create a tuple with 5 different fruits\n",
    "fruits = (\"apple\", \"banana\", \"mango\", \"orange\", \"grape\")"
   ]
  },
  {
   "cell_type": "code",
   "execution_count": 4,
   "id": "2c4563e0",
   "metadata": {},
   "outputs": [
    {
     "name": "stdout",
     "output_type": "stream",
     "text": [
      "True\n",
      "False\n"
     ]
    }
   ],
   "source": [
    "\n",
    "# Function to check if a specific fruit is in the tuple\n",
    "def check_fruit(fruit_name):\n",
    "    return fruit_name in fruits\n",
    "\n",
    "print(check_fruit(\"banana\"))  \n",
    "print(check_fruit(\"kiwi\"))   "
   ]
  },
  {
   "cell_type": "code",
   "execution_count": 5,
   "id": "672784ee",
   "metadata": {},
   "outputs": [
    {
     "name": "stdout",
     "output_type": "stream",
     "text": [
      "('apple', 'banana', 'mango', 'orange', 'grape', 'kiwi')\n"
     ]
    }
   ],
   "source": [
    "# Convert tuple to list, add new fruit, and convert back to tuple\n",
    "fruit_list = list(fruits)\n",
    "fruit_list.append(\"kiwi\")\n",
    "fruits = tuple(fruit_list)\n",
    "print(fruits)"
   ]
  },
  {
   "cell_type": "markdown",
   "id": "c4f75a2a",
   "metadata": {},
   "source": [
    "# Dictionary of students and scores\n",
    "\n"
   ]
  },
  {
   "cell_type": "code",
   "execution_count": 6,
   "id": "6a29d258",
   "metadata": {},
   "outputs": [],
   "source": [
    "# Create dictionary with student names and scores\n",
    "students_scores = {\n",
    "    \"Ahmed\": 85,\n",
    "    \"Sara\": 92,\n",
    "    \"Laila\": 78,\n",
    "    \"Omar\": 88,\n",
    "    \"Mona\": 90\n",
    "}"
   ]
  },
  {
   "cell_type": "code",
   "execution_count": 7,
   "id": "5a017ec1",
   "metadata": {},
   "outputs": [
    {
     "name": "stdout",
     "output_type": "stream",
     "text": [
      "Top student: Sara with score 92\n"
     ]
    }
   ],
   "source": [
    "# Find student with the highest score\n",
    "highest_student = max(students_scores, key=students_scores.get)\n",
    "print(f\"Top student: {highest_student} with score {students_scores[highest_student]}\")"
   ]
  },
  {
   "cell_type": "code",
   "execution_count": 8,
   "id": "8eb2ee01",
   "metadata": {},
   "outputs": [
    {
     "name": "stdout",
     "output_type": "stream",
     "text": [
      "Updated dictionary: {'Ahmed': 85, 'Sara': 92, 'Laila': 95, 'Omar': 88, 'Mona': 90}\n"
     ]
    }
   ],
   "source": [
    "# Update a specific student's score\n",
    "students_scores[\"Laila\"] = 95\n",
    "print(\"Updated dictionary:\", students_scores)"
   ]
  },
  {
   "cell_type": "markdown",
   "id": "63b95133",
   "metadata": {},
   "source": [
    "# Sets of multiples and operations"
   ]
  },
  {
   "cell_type": "code",
   "execution_count": 9,
   "id": "10da4770",
   "metadata": {},
   "outputs": [],
   "source": [
    "# Create two sets\n",
    "multiples_of_3 = set(range(3, 31, 3))\n",
    "multiples_of_5 = set(range(5, 51, 5))"
   ]
  },
  {
   "cell_type": "code",
   "execution_count": 10,
   "id": "d9be0942",
   "metadata": {},
   "outputs": [
    {
     "name": "stdout",
     "output_type": "stream",
     "text": [
      "Union: {3, 5, 6, 9, 10, 12, 15, 18, 20, 21, 24, 25, 27, 30, 35, 40, 45, 50}\n",
      "Intersection: {30, 15}\n",
      "Difference (3 - 5): {3, 6, 9, 12, 18, 21, 24, 27}\n",
      "Is multiples_of_3 a subset of multiples_of_5? False\n",
      "Is multiples_of_5 a subset of multiples_of_3? False\n"
     ]
    }
   ],
   "source": [
    "# Set operations\n",
    "print(\"Union:\", multiples_of_3 | multiples_of_5)\n",
    "print(\"Intersection:\", multiples_of_3 & multiples_of_5)\n",
    "print(\"Difference (3 - 5):\", multiples_of_3 - multiples_of_5)\n",
    "print(\"Is multiples_of_3 a subset of multiples_of_5?\", multiples_of_3.issubset(multiples_of_5))\n",
    "print(\"Is multiples_of_5 a subset of multiples_of_3?\", multiples_of_5.issubset(multiples_of_3))"
   ]
  },
  {
   "cell_type": "markdown",
   "id": "6073de4a",
   "metadata": {},
   "source": [
    "# List of words and lengths"
   ]
  },
  {
   "cell_type": "code",
   "execution_count": 12,
   "id": "65ca2e4f",
   "metadata": {},
   "outputs": [],
   "source": [
    "# List of words\n",
    "words = [\"hello\", \"world\", \"python\", \"assignment\", \"fun\"]"
   ]
  },
  {
   "cell_type": "code",
   "execution_count": 13,
   "id": "61aab326",
   "metadata": {},
   "outputs": [
    {
     "name": "stdout",
     "output_type": "stream",
     "text": [
      "hello -> Length: 5\n",
      "world -> Length: 5\n",
      "python -> Length: 6\n",
      "assignment -> Length: 10\n",
      "fun -> Length: 3\n"
     ]
    }
   ],
   "source": [
    "# Print word and its length\n",
    "for word in words:\n",
    "    print(f\"{word} -> Length: {len(word)}\")"
   ]
  },
  {
   "cell_type": "markdown",
   "id": "0b26bb80",
   "metadata": {},
   "source": [
    "# Experience qualification checker"
   ]
  },
  {
   "cell_type": "code",
   "execution_count": 14,
   "id": "d9495bdc",
   "metadata": {},
   "outputs": [],
   "source": [
    "# Experience requirements and user experience\n",
    "requirements = [1, 3, 2, 5, 6, 7]\n",
    "user_experience = 2"
   ]
  },
  {
   "cell_type": "code",
   "execution_count": 15,
   "id": "7444b8cd",
   "metadata": {},
   "outputs": [
    {
     "name": "stdout",
     "output_type": "stream",
     "text": [
      "Qualified for position 1 (requires 1 years)\n",
      "Not qualified for position 2 (requires 3 years)\n",
      "Qualified for position 3 (requires 2 years)\n",
      "Not qualified for position 4 (requires 5 years)\n",
      "Not qualified for position 5 (requires 6 years)\n",
      "Not qualified for position 6 (requires 7 years)\n"
     ]
    }
   ],
   "source": [
    "# Check qualifications\n",
    "for idx, req in enumerate(requirements):\n",
    "    if user_experience >= req:\n",
    "        print(f\"Qualified for position {idx+1} (requires {req} years)\")\n",
    "    else:\n",
    "        print(f\"Not qualified for position {idx+1} (requires {req} years)\")"
   ]
  }
 ],
 "metadata": {
  "kernelspec": {
   "display_name": "Python 3 (ipykernel)",
   "language": "python",
   "name": "python3"
  },
  "language_info": {
   "codemirror_mode": {
    "name": "ipython",
    "version": 3
   },
   "file_extension": ".py",
   "mimetype": "text/x-python",
   "name": "python",
   "nbconvert_exporter": "python",
   "pygments_lexer": "ipython3",
   "version": "3.9.19"
  }
 },
 "nbformat": 4,
 "nbformat_minor": 5
}
