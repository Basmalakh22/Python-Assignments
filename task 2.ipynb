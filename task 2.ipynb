{
 "cells": [
  {
   "cell_type": "code",
   "execution_count": 1,
   "id": "d5fb1939",
   "metadata": {},
   "outputs": [
    {
     "name": "stdout",
     "output_type": "stream",
     "text": [
      "Enter working hours: 200\n",
      "Enter hourly rate: 80\n",
      "Total salary: 19200.00\n"
     ]
    }
   ],
   "source": [
    "def total_salary():\n",
    "    try:\n",
    "        hours = float(input(\"Enter working hours: \"))\n",
    "        hourly_rate = float(input(\"Enter hourly rate: \"))\n",
    "        \n",
    "        if hours <= 160:\n",
    "            salary = hours * hourly_rate\n",
    "        else:\n",
    "            base_salary = 160 * hourly_rate\n",
    "            extra_hours = hours - 160\n",
    "            bonus_salary = extra_hours * hourly_rate * 2\n",
    "            salary = base_salary + bonus_salary\n",
    "\n",
    "        print(f\"Total salary: {salary:.2f}\")\n",
    "    \n",
    "    except ValueError:\n",
    "        print(\"Please, Enter a correct Number\")\n",
    "\n",
    "# Call the function\n",
    "total_salary()\n"
   ]
  },
  {
   "cell_type": "code",
   "execution_count": null,
   "id": "7ac5d1c1",
   "metadata": {},
   "outputs": [],
   "source": []
  }
 ],
 "metadata": {
  "kernelspec": {
   "display_name": "Python 3 (ipykernel)",
   "language": "python",
   "name": "python3"
  },
  "language_info": {
   "codemirror_mode": {
    "name": "ipython",
    "version": 3
   },
   "file_extension": ".py",
   "mimetype": "text/x-python",
   "name": "python",
   "nbconvert_exporter": "python",
   "pygments_lexer": "ipython3",
   "version": "3.9.19"
  }
 },
 "nbformat": 4,
 "nbformat_minor": 5
}
