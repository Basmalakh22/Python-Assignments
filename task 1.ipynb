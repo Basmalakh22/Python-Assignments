{
 "cells": [
  {
   "cell_type": "code",
   "execution_count": 1,
   "id": "847fdc5d",
   "metadata": {},
   "outputs": [
    {
     "name": "stdout",
     "output_type": "stream",
     "text": [
      "<class 'str'>\n",
      "<class 'int'>\n",
      "<class 'float'>\n",
      "<class 'bool'>\n"
     ]
    }
   ],
   "source": [
    "name = \"Basmala\"\n",
    "age = 23\n",
    "height = 1.60\n",
    "student = False\n",
    "print(type(name))\n",
    "print(type(age))\n",
    "print(type(height))\n",
    "print(type(student))"
   ]
  },
  {
   "cell_type": "code",
   "execution_count": 3,
   "id": "78aa2a27",
   "metadata": {},
   "outputs": [
    {
     "name": "stdout",
     "output_type": "stream",
     "text": [
      "Enter your name: Basmala\n",
      "Enter your age: 23\n",
      "Hello,Basmala You are 23 years old.\n"
     ]
    }
   ],
   "source": [
    "name = input(\"Enter your name: \")\n",
    "age = input(\"Enter your age: \")\n",
    "print(f\"Hello,{name} You are {age} years old.\")"
   ]
  },
  {
   "cell_type": "code",
   "execution_count": 5,
   "id": "af215e93",
   "metadata": {},
   "outputs": [
    {
     "name": "stdout",
     "output_type": "stream",
     "text": [
      "Enter number: 4\n",
      "The number is even\n"
     ]
    }
   ],
   "source": [
    "num = int(input(\"Enter number: \"))\n",
    "if num%2 == 0:\n",
    "    print(\"The number is even\")\n",
    "else:\n",
    "    print(\"The number is odd\")\n"
   ]
  },
  {
   "cell_type": "code",
   "execution_count": 6,
   "id": "c73b3eb0",
   "metadata": {},
   "outputs": [
    {
     "name": "stdout",
     "output_type": "stream",
     "text": [
      "number of working hours: 200\n",
      "hourly rate: 40\n",
      "9600\n"
     ]
    }
   ],
   "source": [
    "hours = int(input(\"number of working hours: \"))\n",
    "hourly_rate = int(input(\"hourly rate: \"))\n",
    "if hours <= 160:\n",
    "    salary = hours * hourly_rate\n",
    "    print(salary)\n",
    "else:\n",
    "    base_salary = 160 * hourly_rate \n",
    "    bonus_salary = (hours - 160) * hourly_rate * 2\n",
    "    total_salary = base_salary + bonus_salary\n",
    "    print(total_salary)"
   ]
  },
  {
   "cell_type": "code",
   "execution_count": null,
   "id": "3686e9c4",
   "metadata": {},
   "outputs": [],
   "source": []
  }
 ],
 "metadata": {
  "kernelspec": {
   "display_name": "Python 3 (ipykernel)",
   "language": "python",
   "name": "python3"
  },
  "language_info": {
   "codemirror_mode": {
    "name": "ipython",
    "version": 3
   },
   "file_extension": ".py",
   "mimetype": "text/x-python",
   "name": "python",
   "nbconvert_exporter": "python",
   "pygments_lexer": "ipython3",
   "version": "3.9.19"
  }
 },
 "nbformat": 4,
 "nbformat_minor": 5
}
